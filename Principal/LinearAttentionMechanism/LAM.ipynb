{
 "cells": [
  {
   "cell_type": "markdown",
   "metadata": {},
   "source": [
    "<h1><center>Linear Attention Mechanism</center></h1>"
   ]
  },
  {
   "cell_type": "markdown",
   "metadata": {},
   "source": [
    "[The original paper of linear-attention-mechanism](https://arxiv.org/pdf/2007.14902.pdf)"
   ]
  },
  {
   "cell_type": "markdown",
   "metadata": {},
   "source": [
    " "
   ]
  },
  {
   "cell_type": "markdown",
   "metadata": {},
   "source": [
    " \n"
   ]
  },
  {
   "cell_type": "code",
   "execution_count": 1,
   "metadata": {},
   "outputs": [],
   "source": [
    "import torch\n",
    "from torch.nn import Module, Conv2d, Parameter, Softmax"
   ]
  },
  {
   "cell_type": "code",
   "execution_count": 2,
   "metadata": {},
   "outputs": [],
   "source": [
    "def l2_norm(x):\n",
    "    return torch.einsum(\"bcn, bn->bcn\", x, 1 / torch.norm(x, p=2, dim=-2))\n",
    "\n",
    "\n",
    "class PositionLinearAttention(Module):\n",
    "    \"\"\"Position linear attention\"\"\"\n",
    "    def __init__(self, in_places, eps=1e-6):\n",
    "        super(PositionLinearAttention, self).__init__()\n",
    "        self.gamma = Parameter(torch.zeros(1))\n",
    "        self.in_places = in_places\n",
    "        self.l2_norm = l2_norm\n",
    "        self.eps = eps\n",
    "\n",
    "        self.query_conv = Conv2d(in_channels=in_places, out_channels=in_places // 8, kernel_size=1)\n",
    "        self.key_conv = Conv2d(in_channels=in_places, out_channels=in_places // 8, kernel_size=1)\n",
    "        self.value_conv = Conv2d(in_channels=in_places, out_channels=in_places, kernel_size=1)\n",
    "\n",
    "    def forward(self, x):\n",
    "        # Apply the feature map to the queries and keys\n",
    "        batch_size, chnnels, width, height = x.shape\n",
    "        Q = self.query_conv(x).view(batch_size, -1, width * height)\n",
    "        K = self.key_conv(x).view(batch_size, -1, width * height)\n",
    "        V = self.value_conv(x).view(batch_size, -1, width * height)\n",
    "\n",
    "        Q = self.l2_norm(Q).permute(-3, -1, -2)\n",
    "        K = self.l2_norm(K)\n",
    "\n",
    "        tailor_sum = 1 / (width * height + torch.einsum(\"bnc, bc->bn\", Q, torch.sum(K, dim=-1) + self.eps))\n",
    "        value_sum = torch.einsum(\"bcn->bc\", V).unsqueeze(-1)\n",
    "        value_sum = value_sum.expand(-1, chnnels, width * height)\n",
    "\n",
    "        matrix = torch.einsum('bmn, bcn->bmc', K, V)\n",
    "        matrix_sum = value_sum + torch.einsum(\"bnm, bmc->bcn\", Q, matrix)\n",
    "\n",
    "        weight_value = torch.einsum(\"bcn, bn->bcn\", matrix_sum, tailor_sum)\n",
    "        weight_value = weight_value.view(batch_size, chnnels, height, width)\n",
    "\n",
    "        return (x + self.gamma * weight_value).contiguous()\n",
    "\n",
    "\n",
    "class ChannelLinearAttention(Module):\n",
    "    \"\"\"Channel linear attention\"\"\"\n",
    "    def __init__(self, eps=1e-6):\n",
    "        super(ChannelLinearAttention, self).__init__()\n",
    "        self.gamma = Parameter(torch.zeros(1))\n",
    "        self.l2_norm = l2_norm\n",
    "        self.eps = eps\n",
    "\n",
    "    def forward(self, x):\n",
    "        batch_size, chnnels, width, height = x.shape\n",
    "        Q = x.view(batch_size, chnnels, -1)\n",
    "        K = x.view(batch_size, chnnels, -1)\n",
    "        V = x.view(batch_size, chnnels, -1)\n",
    "\n",
    "        Q = self.l2_norm(Q)\n",
    "        K = self.l2_norm(K).permute(-3, -1, -2)\n",
    "\n",
    "        # tailor_sum = 1 / (width * height + torch.einsum(\"bnc, bc->bn\", Q, t))\n",
    "\n",
    "        tailor_sum = 1 / (width * height + torch.einsum(\"bnc, bn->bc\", K, torch.sum(Q, dim=-2) + self.eps))\n",
    "        value_sum = torch.einsum(\"bcn->bn\", V).unsqueeze(-1).permute(0, 2, 1)\n",
    "        value_sum = value_sum.expand(-1, chnnels, width * height)\n",
    "        matrix = torch.einsum('bcn, bnm->bcm', V, K)\n",
    "        matrix_sum = value_sum + torch.einsum(\"bcm, bmn->bcn\", matrix, Q)\n",
    "\n",
    "        weight_value = torch.einsum(\"bcn, bc->bcn\", matrix_sum, tailor_sum)\n",
    "        weight_value = weight_value.view(batch_size, chnnels, height, width)\n",
    "\n",
    "        return (x + self.gamma * weight_value).contiguous()"
   ]
  },
  {
   "cell_type": "code",
   "execution_count": 3,
   "metadata": {},
   "outputs": [
    {
     "name": "stdout",
     "output_type": "stream",
     "text": [
      "torch.Size([10, 16, 256, 256]) torch.Size([10, 16, 256, 256])\n"
     ]
    }
   ],
   "source": [
    "x = torch.rand((10, 16, 256, 256), dtype=torch.float)\n",
    "\n",
    "PLA = PositionLinearAttention(16)\n",
    "CLA = ChannelLinearAttention()\n",
    "\n",
    "print(PLA(x).shape, CLA(x).shape)"
   ]
  },
  {
   "cell_type": "code",
   "execution_count": null,
   "metadata": {},
   "outputs": [],
   "source": []
  },
  {
   "cell_type": "code",
   "execution_count": null,
   "metadata": {},
   "outputs": [],
   "source": []
  },
  {
   "cell_type": "code",
   "execution_count": null,
   "metadata": {},
   "outputs": [],
   "source": []
  },
  {
   "cell_type": "code",
   "execution_count": null,
   "metadata": {},
   "outputs": [],
   "source": []
  },
  {
   "cell_type": "code",
   "execution_count": null,
   "metadata": {},
   "outputs": [],
   "source": []
  },
  {
   "cell_type": "code",
   "execution_count": null,
   "metadata": {},
   "outputs": [],
   "source": []
  },
  {
   "cell_type": "code",
   "execution_count": null,
   "metadata": {},
   "outputs": [],
   "source": []
  }
 ],
 "metadata": {
  "kernelspec": {
   "display_name": "Python 3",
   "language": "python",
   "name": "python3"
  },
  "language_info": {
   "codemirror_mode": {
    "name": "ipython",
    "version": 3
   },
   "file_extension": ".py",
   "mimetype": "text/x-python",
   "name": "python",
   "nbconvert_exporter": "python",
   "pygments_lexer": "ipython3",
   "version": "3.6.9"
  }
 },
 "nbformat": 4,
 "nbformat_minor": 4
}
