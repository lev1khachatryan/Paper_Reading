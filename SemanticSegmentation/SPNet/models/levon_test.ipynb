{
 "cells": [
  {
   "cell_type": "code",
   "execution_count": 1,
   "metadata": {},
   "outputs": [
    {
     "name": "stdout",
     "output_type": "stream",
     "text": [
      "torch version:  1.4\n"
     ]
    }
   ],
   "source": [
    "import torch\n",
    "import torch.nn as nn\n",
    "from torch.nn import functional as F\n",
    "from torch.autograd import Variable\n",
    "\n",
    "torch_ver = torch.__version__[:3]\n",
    "print('torch version: ', torch_ver)\n",
    "__all__ = ['GlobalAvgPool2d', 'GramMatrix',\n",
    "           'View', 'Sum', 'Mean', 'Normalize', 'ConcurrentModule',\n",
    "           'PyramidPooling', 'StripPooling']"
   ]
  },
  {
   "cell_type": "code",
   "execution_count": 2,
   "metadata": {},
   "outputs": [],
   "source": [
    "x = torch.randn(1, 2048, 256, 128)\n",
    "\n",
    "in_channels = 2048\n",
    "pool_size = (20, 12)\n",
    "norm_layer = nn.BatchNorm2d\n",
    "up_kwargs = 'bilinear'"
   ]
  },
  {
   "cell_type": "code",
   "execution_count": 3,
   "metadata": {},
   "outputs": [],
   "source": [
    "class StripPooling(nn.Module):\n",
    "    \"\"\"\n",
    "    Reference:\n",
    "    \"\"\"\n",
    "    def __init__(self, in_channels, pool_size, norm_layer, up_kwargs):\n",
    "        super(StripPooling, self).__init__()\n",
    "        self.pool1 = nn.AdaptiveAvgPool2d(pool_size[0])\n",
    "        self.pool2 = nn.AdaptiveAvgPool2d(pool_size[1])\n",
    "        self.pool3 = nn.AdaptiveAvgPool2d((1, None))\n",
    "        self.pool4 = nn.AdaptiveAvgPool2d((None, 1))\n",
    "\n",
    "        inter_channels = int(in_channels/4)\n",
    "        self.conv1_1 = nn.Sequential(nn.Conv2d(in_channels, inter_channels, 1, bias=False),\n",
    "                                norm_layer(inter_channels),\n",
    "                                nn.ReLU(True))\n",
    "        self.conv1_2 = nn.Sequential(nn.Conv2d(in_channels, inter_channels, 1, bias=False),\n",
    "                                norm_layer(inter_channels),\n",
    "                                nn.ReLU(True))\n",
    "        self.conv2_0 = nn.Sequential(nn.Conv2d(inter_channels, inter_channels, 3, 1, 1, bias=False),\n",
    "                                norm_layer(inter_channels))\n",
    "        self.conv2_1 = nn.Sequential(nn.Conv2d(inter_channels, inter_channels, 3, 1, 1, bias=False),\n",
    "                                norm_layer(inter_channels))\n",
    "        self.conv2_2 = nn.Sequential(nn.Conv2d(inter_channels, inter_channels, 3, 1, 1, bias=False),\n",
    "                                norm_layer(inter_channels))\n",
    "        self.conv2_3 = nn.Sequential(nn.Conv2d(inter_channels, inter_channels, (1, 3), 1, (0, 1), bias=False),\n",
    "                                norm_layer(inter_channels))\n",
    "        self.conv2_4 = nn.Sequential(nn.Conv2d(inter_channels, inter_channels, (3, 1), 1, (1, 0), bias=False),\n",
    "                                norm_layer(inter_channels))\n",
    "        self.conv2_5 = nn.Sequential(nn.Conv2d(inter_channels, inter_channels, 3, 1, 1, bias=False),\n",
    "                                norm_layer(inter_channels),\n",
    "                                nn.ReLU(True))\n",
    "        self.conv2_6 = nn.Sequential(nn.Conv2d(inter_channels, inter_channels, 3, 1, 1, bias=False),\n",
    "                                norm_layer(inter_channels),\n",
    "                                nn.ReLU(True))\n",
    "        self.conv3 = nn.Sequential(nn.Conv2d(inter_channels*2, in_channels, 1, bias=False),\n",
    "                                norm_layer(in_channels))\n",
    "        # bilinear interpolate options\n",
    "        self._up_kwargs = up_kwargs\n",
    "\n",
    "    def forward(self, x):\n",
    "        _, _, h, w = x.size()\n",
    "        x1 = self.conv1_1(x)\n",
    "        x2 = self.conv1_2(x)\n",
    "        x2_1 = self.conv2_0(x1)\n",
    "        x2_2 = F.interpolate(self.conv2_1(self.pool1(x1)), size=(h, w), mode=self._up_kwargs)\n",
    "        x2_3 = F.interpolate(self.conv2_2(self.pool2(x1)), size=(h, w), mode=self._up_kwargs)\n",
    "        x2_4 = F.interpolate(self.conv2_3(self.pool3(x2)), size=(h, w), mode=self._up_kwargs)\n",
    "        x2_5 = F.interpolate(self.conv2_4(self.pool4(x2)), size=(h, w), mode=self._up_kwargs)\n",
    "        x1 = self.conv2_5(F.relu_(x2_1 + x2_2 + x2_3))\n",
    "        x2 = self.conv2_6(F.relu_(x2_5 + x2_4))\n",
    "        out = self.conv3(torch.cat([x1, x2], dim=1))\n",
    "        return F.relu_(x + out)"
   ]
  },
  {
   "cell_type": "code",
   "execution_count": 4,
   "metadata": {},
   "outputs": [],
   "source": [
    "# ddxk = StripPooling(2048, (20, 12), nn.BatchNorm2d, 'bilinear')"
   ]
  },
  {
   "cell_type": "code",
   "execution_count": 6,
   "metadata": {},
   "outputs": [],
   "source": [
    "out_channels = 6\n",
    "\n",
    "inter_channels = in_channels // 2\n",
    "trans_layer = nn.Sequential(nn.Conv2d(in_channels, inter_channels, 1, 1, 0, bias=False),\n",
    "        norm_layer(inter_channels),\n",
    "        nn.ReLU(True)\n",
    ")\n",
    "strip_pool1 = StripPooling(inter_channels, (20, 12), norm_layer, up_kwargs)\n",
    "strip_pool2 = StripPooling(inter_channels, (20, 12), norm_layer, up_kwargs)\n",
    "score_layer = nn.Sequential(nn.Conv2d(inter_channels, inter_channels // 2, 3, 1, 1, bias=False),\n",
    "        norm_layer(inter_channels // 2),\n",
    "        nn.ReLU(True),\n",
    "        nn.Dropout2d(0.1, False),\n",
    "        nn.Conv2d(inter_channels // 2, out_channels, 1))"
   ]
  },
  {
   "cell_type": "code",
   "execution_count": 7,
   "metadata": {},
   "outputs": [
    {
     "name": "stderr",
     "output_type": "stream",
     "text": [
      "/home/levon/.local/lib/python3.6/site-packages/torch/nn/functional.py:2506: UserWarning: Default upsampling behavior when mode=bilinear is changed to align_corners=False since 0.4.0. Please specify align_corners=True if the old behavior is desired. See the documentation of nn.Upsample for details.\n",
      "  \"See the documentation of nn.Upsample for details.\".format(mode))\n"
     ]
    }
   ],
   "source": [
    "x1 = trans_layer(x)\n",
    "x2 = strip_pool1(x1)\n",
    "x3 = strip_pool2(x2)\n",
    "x4 = score_layer(x3)"
   ]
  },
  {
   "cell_type": "code",
   "execution_count": 10,
   "metadata": {},
   "outputs": [
    {
     "name": "stdout",
     "output_type": "stream",
     "text": [
      "torch.Size([1, 2048, 256, 128])\n",
      "torch.Size([1, 1024, 256, 128])\n",
      "torch.Size([1, 1024, 256, 128])\n",
      "torch.Size([1, 1024, 256, 128])\n",
      "torch.Size([1, 6, 256, 128])\n"
     ]
    }
   ],
   "source": [
    "print(x.shape)\n",
    "print(x1.shape)\n",
    "print(x2.shape)\n",
    "print(x3.shape)\n",
    "print(x4.shape)"
   ]
  },
  {
   "cell_type": "code",
   "execution_count": null,
   "metadata": {},
   "outputs": [],
   "source": [
    "class SPHead(nn.Module):\n",
    "    def __init__(self, in_channels, out_channels, norm_layer, up_kwargs):\n",
    "        super(SPHead, self).__init__()\n",
    "        inter_channels = in_channels // 2\n",
    "        self.trans_layer = nn.Sequential(nn.Conv2d(in_channels, inter_channels, 1, 1, 0, bias=False),\n",
    "                norm_layer(inter_channels),\n",
    "                nn.ReLU(True)\n",
    "        )\n",
    "        self.strip_pool1 = StripPooling(inter_channels, (20, 12), norm_layer, up_kwargs)\n",
    "        self.strip_pool2 = StripPooling(inter_channels, (20, 12), norm_layer, up_kwargs)\n",
    "        self.score_layer = nn.Sequential(nn.Conv2d(inter_channels, inter_channels // 2, 3, 1, 1, bias=False),\n",
    "                norm_layer(inter_channels // 2),\n",
    "                nn.ReLU(True),\n",
    "                nn.Dropout2d(0.1, False),\n",
    "                nn.Conv2d(inter_channels // 2, out_channels, 1))\n",
    "\n",
    "    def forward(self, x):\n",
    "        x = self.trans_layer(x)\n",
    "        x = self.strip_pool1(x)\n",
    "        x = self.strip_pool2(x)\n",
    "        x = self.score_layer(x)\n",
    "        return x"
   ]
  },
  {
   "cell_type": "code",
   "execution_count": null,
   "metadata": {},
   "outputs": [],
   "source": [
    "# SPHead(2048, 6, nn.BatchNorm2d, 'bilinear')"
   ]
  },
  {
   "cell_type": "code",
   "execution_count": null,
   "metadata": {},
   "outputs": [],
   "source": []
  },
  {
   "cell_type": "code",
   "execution_count": 11,
   "metadata": {},
   "outputs": [],
   "source": [
    "inter_channels = in_channels // 4\n",
    "conv5 = nn.Sequential(nn.Conv2d(in_channels, inter_channels, 3, padding=1, bias=False),\n",
    "                                       norm_layer(inter_channels),\n",
    "                                       nn.ReLU(),\n",
    "                                       nn.Dropout2d(0.1, False),\n",
    "                                       nn.Conv2d(inter_channels, out_channels, 1))"
   ]
  },
  {
   "cell_type": "code",
   "execution_count": 14,
   "metadata": {},
   "outputs": [
    {
     "name": "stdout",
     "output_type": "stream",
     "text": [
      "torch.Size([1, 2048, 256, 128])\n",
      "torch.Size([1, 6, 256, 128])\n"
     ]
    }
   ],
   "source": [
    "print(x.shape)\n",
    "print(conv5(x).shape)"
   ]
  },
  {
   "cell_type": "code",
   "execution_count": null,
   "metadata": {},
   "outputs": [],
   "source": [
    "class FCNHead(nn.Module):\n",
    "    def __init__(self, in_channels, out_channels, norm_layer, up_kwargs={}, with_global=False):\n",
    "        super(FCNHead, self).__init__()\n",
    "        inter_channels = in_channels // 4\n",
    "        self._up_kwargs = up_kwargs\n",
    "        if with_global:\n",
    "            self.conv5 = nn.Sequential(nn.Conv2d(in_channels, inter_channels, 3, padding=1, bias=False),\n",
    "                                       norm_layer(inter_channels),\n",
    "                                       nn.ReLU(),\n",
    "                                       ConcurrentModule([\n",
    "                                            Identity(),\n",
    "                                            GlobalPooling(inter_channels, inter_channels,\n",
    "                                                          norm_layer, self._up_kwargs),\n",
    "                                       ]),\n",
    "                                       nn.Dropout2d(0.1, False),\n",
    "                                       nn.Conv2d(2*inter_channels, out_channels, 1))\n",
    "        else:\n",
    "            self.conv5 = nn.Sequential(nn.Conv2d(in_channels, inter_channels, 3, padding=1, bias=False),\n",
    "                                       norm_layer(inter_channels),\n",
    "                                       nn.ReLU(),\n",
    "                                       nn.Dropout2d(0.1, False),\n",
    "                                       nn.Conv2d(inter_channels, out_channels, 1))\n",
    "\n",
    "    def forward(self, x):\n",
    "        return self.conv5(x)"
   ]
  },
  {
   "cell_type": "code",
   "execution_count": null,
   "metadata": {},
   "outputs": [],
   "source": []
  }
 ],
 "metadata": {
  "kernelspec": {
   "display_name": "Python 3",
   "language": "python",
   "name": "python3"
  },
  "language_info": {
   "codemirror_mode": {
    "name": "ipython",
    "version": 3
   },
   "file_extension": ".py",
   "mimetype": "text/x-python",
   "name": "python",
   "nbconvert_exporter": "python",
   "pygments_lexer": "ipython3",
   "version": "3.6.9"
  }
 },
 "nbformat": 4,
 "nbformat_minor": 4
}
